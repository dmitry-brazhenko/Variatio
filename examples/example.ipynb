{
 "cells": [
  {
   "cell_type": "markdown",
   "metadata": {},
   "source": [
    "You need this if you are running the notebook from repo"
   ]
  },
  {
   "cell_type": "code",
   "execution_count": 1,
   "metadata": {},
   "outputs": [],
   "source": [
    "import sys\n",
    "sys.path.append(\"../\")"
   ]
  },
  {
   "cell_type": "markdown",
   "metadata": {},
   "source": [
    "Importing pandas and VariatioAnalyzer"
   ]
  },
  {
   "cell_type": "code",
   "execution_count": 2,
   "metadata": {},
   "outputs": [],
   "source": [
    "import pandas as pd\n",
    "from variatio import VariatioAnalyzer"
   ]
  },
  {
   "cell_type": "markdown",
   "metadata": {},
   "source": [
    "Working with dataset. Reading sample dataset from file"
   ]
  },
  {
   "cell_type": "code",
   "execution_count": 3,
   "metadata": {},
   "outputs": [],
   "source": [
    "event_data = pd.read_csv(\"event_data.csv\", parse_dates=['timestamp'])\n",
    "user_allocations = pd.read_csv(\"user_allocations.csv\", parse_dates=['timestamp'])\n",
    "\n",
    "#event_data['timestamp'] = pd.to_datetime(event_data['timestamp'])\n",
    "#user_allocations['timestamp'] = pd.to_datetime(user_allocations['timestamp'])"
   ]
  },
  {
   "cell_type": "code",
   "execution_count": 10,
   "metadata": {},
   "outputs": [
    {
     "name": "stdout",
     "output_type": "stream",
     "text": [
      "            timestamp  userid event_name  purchase_value\n",
      "0 2023-01-01 00:00:00    7271      login               0\n",
      "1 2023-01-01 01:00:00     861   purchase             223\n",
      "2 2023-01-01 02:00:00    5391   purchase             216\n",
      "3 2023-01-01 03:00:00    5192      login               0\n",
      "4 2023-01-01 04:00:00    5735      login               0\n"
     ]
    }
   ],
   "source": [
    "print(event_data.head())"
   ]
  },
  {
   "cell_type": "code",
   "execution_count": 11,
   "metadata": {},
   "outputs": [
    {
     "name": "stdout",
     "output_type": "stream",
     "text": [
      "            timestamp  userid abgroup\n",
      "0 2022-12-15 00:00:00       1       A\n",
      "1 2022-12-15 01:00:00       2       B\n",
      "2 2022-12-15 02:00:00       3       B\n",
      "3 2022-12-15 03:00:00       4       B\n",
      "4 2022-12-15 04:00:00       5       A\n"
     ]
    }
   ],
   "source": [
    "print(user_allocations.head())"
   ]
  },
  {
   "cell_type": "code",
   "execution_count": null,
   "metadata": {},
   "outputs": [],
   "source": []
  },
  {
   "cell_type": "markdown",
   "metadata": {},
   "source": [
    "Initialize ab test analyzer clasee"
   ]
  },
  {
   "cell_type": "code",
   "execution_count": 6,
   "metadata": {},
   "outputs": [],
   "source": [
    "analyzer = VariatioAnalyzer(event_data, user_allocations, \"A\")"
   ]
  },
  {
   "cell_type": "code",
   "execution_count": 7,
   "metadata": {},
   "outputs": [
    {
     "name": "stdout",
     "output_type": "stream",
     "text": [
      "Metrics were calculated\n"
     ]
    }
   ],
   "source": [
    "# Calculate the count of 'purchase' events per user\n",
    "analyzer.calculate_event_count_per_user('purchase')\n",
    "\n",
    "# Calculate the sum of 'purchase_value' for 'purchase' events per user\n",
    "analyzer.calculate_event_attribute_sum_per_user('purchase', 'purchase_value')\n",
    "\n",
    "# Calculate the conversion rate to 'login' events\n",
    "analyzer.calculate_conversion('login')\n",
    "\n",
    "print(\"Metrics were calculated\")"
   ]
  },
  {
   "cell_type": "code",
   "execution_count": null,
   "metadata": {},
   "outputs": [],
   "source": []
  },
  {
   "cell_type": "markdown",
   "metadata": {},
   "source": [
    "It is possible to explore raw metrics and significance in a list"
   ]
  },
  {
   "cell_type": "code",
   "execution_count": 8,
   "metadata": {},
   "outputs": [
    {
     "data": {
      "text/plain": [
       "[<Metric(metrictype=MetricType.EVENT_COUNT_PER_USER, metricparams=<MetricParams({'event_name': 'purchase'})>, result=<MetricResult(control_group=A, test_groups=['B'], data={'A': 0.043538219070133964, 'B': 0.1645004061738424}, stat_significance={'B': 5.6308840686042425e-70}, stat_significance_method=StatSignificanceMethod.CATBOOST_CUPED_T_TEST)>)>,\n",
       " <Metric(metrictype=MetricType.EVENT_ATTRIBUTE_SUM_PER_USER, metricparams=<MetricParams({'event_name': 'purchase', 'attribute_name': 'purchase_value'})>, result=<MetricResult(control_group=A, test_groups=['B'], data={'A': 8.345350669818755, 'B': 32.451868399675064}, stat_significance={'B': 2.1853480343807932e-62}, stat_significance_method=StatSignificanceMethod.CATBOOST_CUPED_T_TEST)>)>,\n",
       " <Metric(metrictype=MetricType.CONVERSION_RATE, metricparams=<MetricParams({'event_name': 'login'})>, result=<MetricResult(control_group=A, test_groups=['B'], data={'A': 0.08490937746256895, 'B': 0.30584890333062553}, stat_significance={'B': 7.418608501468872e-175}, stat_significance_method=StatSignificanceMethod.T_TEST)>)>]"
      ]
     },
     "execution_count": 8,
     "metadata": {},
     "output_type": "execute_result"
    }
   ],
   "source": [
    "analyzer.calculated_metrics"
   ]
  },
  {
   "cell_type": "markdown",
   "metadata": {},
   "source": [
    "Now we can save metrics to a pretty report"
   ]
  },
  {
   "cell_type": "code",
   "execution_count": 9,
   "metadata": {},
   "outputs": [],
   "source": [
    "analyzer.save_report(\"abtest_report.html\")"
   ]
  },
  {
   "cell_type": "code",
   "execution_count": null,
   "metadata": {},
   "outputs": [],
   "source": []
  }
 ],
 "metadata": {
  "kernelspec": {
   "display_name": "Python 3 (ipykernel)",
   "language": "python",
   "name": "python3"
  },
  "language_info": {
   "codemirror_mode": {
    "name": "ipython",
    "version": 3
   },
   "file_extension": ".py",
   "mimetype": "text/x-python",
   "name": "python",
   "nbconvert_exporter": "python",
   "pygments_lexer": "ipython3",
   "version": "3.11.6"
  }
 },
 "nbformat": 4,
 "nbformat_minor": 4
}
